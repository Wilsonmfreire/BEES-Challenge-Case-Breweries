{
 "cells": [
  {
   "cell_type": "code",
   "execution_count": 8,
   "metadata": {},
   "outputs": [
    {
     "name": "stdout",
     "output_type": "stream",
     "text": [
      "Sessão Spark iniciada com o nome: visiaoAgregadaGold\n"
     ]
    }
   ],
   "source": [
    "from pyspark.sql import SparkSession\n",
    "from pyspark.sql import functions as F\n",
    "from pyspark.sql.utils import AnalysisException\n",
    "from spark_utils import iniciar_spark, fechar_spark\n",
    "\n",
    "import utils\n",
    "import os\n",
    "from glob import glob\n",
    "\n",
    "spark = iniciar_spark(\"visiaoAgregadaGold\")"
   ]
  },
  {
   "cell_type": "code",
   "execution_count": 2,
   "metadata": {},
   "outputs": [
    {
     "name": "stdout",
     "output_type": "stream",
     "text": [
      "dados_cervejarias\\data_lake\\silver\\brewery\n",
      "dados_cervejarias\\data_lake\\gold\n",
      "c:\\Users\\wilso\\Downloads\\Desafio-BEES---Caso-Du\\dados_cervejarias\\data_lake\\silver\\brewery\n"
     ]
    }
   ],
   "source": [
    "# Variaveis\n",
    "layer_silver = \"silver\"\n",
    "silver_path = utils.ler_configuracoes(layer_silver)\n",
    "print(silver_path)\n",
    "layer_gold = \"gold\"\n",
    "gold_path = utils.ler_configuracoes(layer_gold)\n",
    "print(gold_path)\n",
    "\n",
    "directory = os.path.join(os.path.dirname(os.path.abspath(\"../../\")), silver_path)\n",
    "print(directory)"
   ]
  },
  {
   "cell_type": "code",
   "execution_count": 29,
   "metadata": {},
   "outputs": [
    {
     "name": "stdout",
     "output_type": "stream",
     "text": [
      "Último arquivo Parquet encontrado para silver: c:\\Users\\wilso\\Downloads\\Desafio-BEES---Caso-Du\\dados_cervejarias\\data_lake\\silver\\brewery\\part-00000-fcc99cb1-a0a5-4948-a737-d117b1f8d3cc-c000.snappy.parquet\n",
      "+------------+----------------+----------+-------------+-------------+\n",
      "|brewery_type|city            |state     |country      |num_breweries|\n",
      "+------------+----------------+----------+-------------+-------------+\n",
      "|micro       |Killeshin       |Laois     |Ireland      |1            |\n",
      "|micro       |Gilbert         |Arizona   |United States|1            |\n",
      "|micro       |Mesa            |Arizona   |United States|1            |\n",
      "|micro       |Tucson          |Arizona   |United States|1            |\n",
      "|micro       |Mariposa        |California|United States|1            |\n",
      "|closed      |Petaluma        |California|United States|1            |\n",
      "|large       |San Diego       |California|United States|1            |\n",
      "|micro       |Westlake Village|California|United States|1            |\n",
      "|micro       |Castle Rock     |Colorado  |United States|1            |\n",
      "|large       |Denver          |Colorado  |United States|1            |\n",
      "|proprietor  |Denver          |Colorado  |United States|1            |\n",
      "|brewpub     |Louisville      |Colorado  |United States|1            |\n",
      "|micro       |Georgetown      |Delaware  |United States|1            |\n",
      "|large       |Boise           |Idaho     |United States|1            |\n",
      "|micro       |Assumption      |Illinois  |United States|1            |\n",
      "|micro       |Gary            |Indiana   |United States|1            |\n",
      "|micro       |Hammond         |Indiana   |United States|1            |\n",
      "|micro       |Knox            |Indiana   |United States|1            |\n",
      "|micro       |Des Moines      |Iowa      |United States|1            |\n",
      "|contract    |Westminister    |Maryland  |United States|1            |\n",
      "+------------+----------------+----------+-------------+-------------+\n",
      "only showing top 20 rows\n",
      "\n",
      "c:\\Users\\wilso\\Downloads\\Desafio-BEES---Caso-Du\\dados_cervejarias\\data_lake\\gold\n",
      "DataFrame successfully saved as Parquet in: c:\\Users\\wilso\\Downloads\\Desafio-BEES---Caso-Du\\dados_cervejarias\\data_lake\\gold\\brewery\\\n"
     ]
    }
   ],
   "source": [
    "layer_silver = \"silver\"\n",
    "silver_path = utils.ler_configuracoes(layer_silver)\n",
    "layer_gold = \"gold\"\n",
    "gold_path = utils.ler_configuracoes(layer_gold)\n",
    "\n",
    "arquivo_silver = utils.obter_ultimo_parquet(\"silver\")\n",
    "\n",
    "if arquivo_silver:\n",
    "    try:\n",
    "        # Lê os dados da camada Silver\n",
    "        df_silver = spark.read.parquet(arquivo_silver)\n",
    "\n",
    "        # Processamento da camada Gold: Agregação\n",
    "        df_gold = df_silver.groupBy(\"brewery_type\", \"city\", \"state\", \"country\").agg(\n",
    "            F.count(\"*\").alias(\"num_breweries\")  # Conta o número de cervejarias por grupo\n",
    "        ).orderBy(\"country\", \"state\", \"city\", \"brewery_type\") #Ordena os dados\n",
    "\n",
    "        # Exibe os dados (opcional, para verificar o resultado)\n",
    "        df_gold.show(truncate=False)\n",
    "\n",
    "        # Obtém o caminho para salvar a camada Gold\n",
    "        # arquivo_gold = utils.obter_ultimo_parquet(\"gold\") # Obtém o caminho onde salvar o arquivo gold\n",
    "\n",
    "        if gold_path is None:\n",
    "            print(\"Caminho silver não configurado. Abortando ingestão silver\")\n",
    "        gold_path = os.path.join(os.path.dirname(os.path.abspath(\"../../\")), gold_path)\n",
    "        print(gold_path)\n",
    "\n",
    "        target_path = os.path.join(gold_path, \"brewery\\\\\")\n",
    "\n",
    "        file_name = os.path.join(target_path)\n",
    "\n",
    "        df_gold.write.mode(\"overwrite\").parquet(file_name)\n",
    "        print(f\"DataFrame successfully saved as Parquet in: {file_name}\")\n",
    "\n",
    "    except Exception as e:\n",
    "        print(f\"Erro no processamento da camada Gold: {e}\")\n",
    "else:\n",
    "    print(\"Erro: Arquivo da camada Silver não encontrado.\")"
   ]
  }
 ],
 "metadata": {
  "kernelspec": {
   "display_name": "base",
   "language": "python",
   "name": "python3"
  },
  "language_info": {
   "codemirror_mode": {
    "name": "ipython",
    "version": 3
   },
   "file_extension": ".py",
   "mimetype": "text/x-python",
   "name": "python",
   "nbconvert_exporter": "python",
   "pygments_lexer": "ipython3",
   "version": "3.12.7"
  }
 },
 "nbformat": 4,
 "nbformat_minor": 2
}
