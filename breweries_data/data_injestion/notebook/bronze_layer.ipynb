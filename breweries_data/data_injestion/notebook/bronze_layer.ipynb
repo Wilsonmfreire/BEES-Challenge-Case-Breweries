{
 "cells": [
  {
   "cell_type": "code",
   "execution_count": 1,
   "metadata": {
    "vscode": {
     "languageId": "powershell"
    }
   },
   "outputs": [
    {
     "name": "stdout",
     "output_type": "stream",
     "text": [
      "Requirement already satisfied: pandas in e:\\anaconda3\\lib\\site-packages (2.2.2)\n",
      "Requirement already satisfied: numpy>=1.26.0 in e:\\anaconda3\\lib\\site-packages (from pandas) (1.26.4)\n",
      "Requirement already satisfied: python-dateutil>=2.8.2 in e:\\anaconda3\\lib\\site-packages (from pandas) (2.9.0.post0)\n",
      "Requirement already satisfied: pytz>=2020.1 in e:\\anaconda3\\lib\\site-packages (from pandas) (2024.1)\n",
      "Requirement already satisfied: tzdata>=2022.7 in e:\\anaconda3\\lib\\site-packages (from pandas) (2023.3)\n",
      "Requirement already satisfied: six>=1.5 in e:\\anaconda3\\lib\\site-packages (from python-dateutil>=2.8.2->pandas) (1.16.0)\n"
     ]
    }
   ],
   "source": [
    "!pip install pandas"
   ]
  },
  {
   "cell_type": "code",
   "execution_count": 1,
   "metadata": {
    "vscode": {
     "languageId": "powershell"
    }
   },
   "outputs": [
    {
     "name": "stdout",
     "output_type": "stream",
     "text": [
      "Sessão Spark iniciada com o nome: ingestaoBronze\n"
     ]
    }
   ],
   "source": [
    "from pyspark.sql import SparkSession\n",
    "from pyspark.sql import functions as F\n",
    "from spark_utils import iniciar_spark, fechar_spark\n",
    "import pandas as pd\n",
    "import requests\n",
    "\n",
    "import utils\n",
    "spark = iniciar_spark(\"ingestaoBronze\")"
   ]
  },
  {
   "cell_type": "code",
   "execution_count": 7,
   "metadata": {
    "vscode": {
     "languageId": "powershell"
    }
   },
   "outputs": [],
   "source": [
    "# Variaveis\n",
    "layer = \"bronze\"\n",
    "layer_path = \"\" "
   ]
  },
  {
   "cell_type": "code",
   "execution_count": 8,
   "metadata": {
    "vscode": {
     "languageId": "powershell"
    }
   },
   "outputs": [],
   "source": [
    "def realizar_requisicao():\n",
    "    \"\"\"Realiza a requisição à API e retorna os dados em JSON.\"\"\"\n",
    "    url = \"https://api.openbrewerydb.org/v1/breweries\"\n",
    "    try:\n",
    "        response = requests.get(url)\n",
    "        response.raise_for_status()  # Lança uma exceção para status code diferente de 2xx\n",
    "        return response.json()\n",
    "    except requests.exceptions.RequestException as e:\n",
    "        print(f\"Erro na requisição: {e}\")\n",
    "        return None"
   ]
  },
  {
   "cell_type": "code",
   "execution_count": 9,
   "metadata": {
    "vscode": {
     "languageId": "powershell"
    }
   },
   "outputs": [
    {
     "name": "stdout",
     "output_type": "stream",
     "text": [
      "Dados recebidos da API com sucesso!\n",
      "DataFrame saved to dados_cervejarias\\data_lake\\bronze\\2024\\12\\17\\22\\35\\data.json\n"
     ]
    }
   ],
   "source": [
    "def ingestao_bronze():\n",
    "\n",
    "    layer_path = utils.ler_configuracoes(layer)\n",
    "\n",
    "    try:\n",
    "        raw_data = realizar_requisicao()\n",
    "\n",
    "        if raw_data:\n",
    "            print(\"Dados recebidos da API com sucesso!\")  \n",
    "            try:\n",
    "                utils.save_to_json(raw_data, layer_path)\n",
    "                \n",
    "            except Exception as e:\n",
    "                print(f\"Erro ao processar dados: {e}\")\n",
    "        else:\n",
    "            print(\"Não foi possível obter dados da API.\")\n",
    "    except Exception as e:\n",
    "        print(f\"Erro geral na ingestão: {e}\")  \n",
    "\n",
    "if __name__ == \"__main__\":\n",
    "    ingestao_bronze()"
   ]
  }
 ],
 "metadata": {
  "kernelspec": {
   "display_name": "base",
   "language": "python",
   "name": "python3"
  },
  "language_info": {
   "codemirror_mode": {
    "name": "ipython",
    "version": 3
   },
   "file_extension": ".py",
   "mimetype": "text/x-python",
   "name": "python",
   "nbconvert_exporter": "python",
   "pygments_lexer": "ipython3",
   "version": "3.12.7"
  }
 },
 "nbformat": 4,
 "nbformat_minor": 2
}
